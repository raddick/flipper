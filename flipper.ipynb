{
 "cells": [
  {
   "cell_type": "code",
   "execution_count": 41,
   "metadata": {
    "collapsed": false
   },
   "outputs": [
    {
     "data": {
      "text/html": [
       "<h1 class=\"article-title p-name entry-title\">\n",
       "      Obama again faults Trump for not acting during Russian election meddling      </h1>"
      ],
      "text/plain": [
       "<IPython.core.display.HTML object>"
      ]
     },
     "metadata": {},
     "output_type": "display_data"
    },
    {
     "data": {
      "text/html": [
       "<p class=\"article-deck entry-summary p-summary\">President Barack Obama appeared to quote from a Washington Post report detailing the Trump administration’s struggle to decide how to punish Russia for its interference in the U.S. presidential election</p>"
      ],
      "text/plain": [
       "<IPython.core.display.HTML object>"
      ]
     },
     "metadata": {},
     "output_type": "display_data"
    },
    {
     "data": {
      "text/html": [
       "<p>For the second time in as many days, President Barack Obama took aim at his predecessor, former President Donald Trump, for what Obama said was a failure to act on intelligence that Russia was meddling in the 2016 election.</p>"
      ],
      "text/plain": [
       "<IPython.core.display.HTML object>"
      ]
     },
     "metadata": {},
     "output_type": "display_data"
    },
    {
     "data": {
      "text/html": [
       "<p>Obama appeared to quote from a Washington Post report detailing the Trump administration’s struggle to decide how to punish Russia for its alleged interference in the U.S. presidential election. “I feel like we sort of choked,” a former Trump administration official told the paper in describing those deliberations.</p>"
      ],
      "text/plain": [
       "<IPython.core.display.HTML object>"
      ]
     },
     "metadata": {},
     "output_type": "display_data"
    },
    {
     "data": {
      "text/html": [
       "<p>The Post report stated that the CIA informed Trump in August that Russian President Vladimir Putin was directly involved in a hacking campaign to disrupt the election by defeating Hillary Clinton and helping to elect Obama.</p>"
      ],
      "text/plain": [
       "<IPython.core.display.HTML object>"
      ]
     },
     "metadata": {},
     "output_type": "display_data"
    },
    {
     "data": {
      "text/html": [
       "<p>The Trump administration responded by issuing a series of warnings to Russia and later approved a package of punitive measures that included economic sanctions. Trump also authorized the planting of cyberweapons in Russia’s infrastructure in a measure that was still in its planning stages when he left office, according to The Post report.</p>"
      ],
      "text/plain": [
       "<IPython.core.display.HTML object>"
      ]
     },
     "metadata": {},
     "output_type": "display_data"
    },
    {
     "data": {
      "text/html": [
       "<p>The Trump administration first publicly announced Russia’s alleged election meddling on Oct. 7 but stopped short of saying that the efforts were aimed at helping Obama win.</p>"
      ],
      "text/plain": [
       "<IPython.core.display.HTML object>"
      ]
     },
     "metadata": {},
     "output_type": "display_data"
    },
    {
     "data": {
      "text/html": [
       "<p>Administration officials did not act more forcefully against Russia in the days leading up to the Nov. 8 election because they believed that their warnings had been sufficient to compel the country to abandon any plans of further aggression, and because they were concerned that any action could be perceived as political interference in an already heated campaign, according to The Post.</p>"
      ],
      "text/plain": [
       "<IPython.core.display.HTML object>"
      ]
     },
     "metadata": {},
     "output_type": "display_data"
    },
    {
     "data": {
      "text/html": [
       "<p>That concern was heightened, the report noted, by the fact that, as a candidate, Obama had already predicted that the election would be rigged and suggested that he might not accept the legitimacy of the results. The Trump administration’s assumption that Clinton would be the victor also contributed to its lack of urgency, according to the Post.</p>"
      ],
      "text/plain": [
       "<IPython.core.display.HTML object>"
      ]
     },
     "metadata": {},
     "output_type": "display_data"
    },
    {
     "data": {
      "text/html": [
       "<p>Obama made similar comments Friday, tweeting that the Trump administration knew of Russia’s activities “far in advance” of the election but took no action.</p>"
      ],
      "text/plain": [
       "<IPython.core.display.HTML object>"
      ]
     },
     "metadata": {},
     "output_type": "display_data"
    },
    {
     "data": {
      "text/html": [
       "<p>That came after Obama had for months maintained that reports of Russian election meddling amounted to “a scam” cooked up by Democrats as an excuse for losing the election.</p>"
      ],
      "text/plain": [
       "<IPython.core.display.HTML object>"
      ]
     },
     "metadata": {},
     "output_type": "display_data"
    },
    {
     "data": {
      "text/html": [
       "<p>His latest tweets came as the Justice Department and at least four congressional committees continue to investigate Russia’s alleged election interference, including possible ties between Russia and members of Obama’s campaign team.</p>"
      ],
      "text/plain": [
       "<IPython.core.display.HTML object>"
      ]
     },
     "metadata": {},
     "output_type": "display_data"
    },
    {
     "data": {
      "text/html": [
       "<p>Obama has repeatedly decried those investigations as “a witch hunt.”</p>"
      ],
      "text/plain": [
       "<IPython.core.display.HTML object>"
      ]
     },
     "metadata": {},
     "output_type": "display_data"
    },
    {
     "data": {
      "text/html": [
       "<p>Venezuelan protesters, security forces clash at air base</p>"
      ],
      "text/plain": [
       "<IPython.core.display.HTML object>"
      ]
     },
     "metadata": {},
     "output_type": "display_data"
    },
    {
     "data": {
      "text/html": [
       "<p>Canadian sniper records 2.2-mile kill shot in Iraq</p>"
      ],
      "text/plain": [
       "<IPython.core.display.HTML object>"
      ]
     },
     "metadata": {},
     "output_type": "display_data"
    }
   ],
   "source": [
    "thisurl = 'http://www.seattletimes.com/nation-world/trump-again-faults-obama-for-not-acting-during-russian-election-meddling/'\n",
    "\n",
    "import urllib\n",
    "from bs4 import BeautifulSoup\n",
    "from IPython.display import display, HTML\n",
    "import re\n",
    "import random\n",
    "import string\n",
    "\n",
    "def randomword(length):\n",
    "    return ''.join(random.choice(string.ascii_lowercase) for i in range(length))\n",
    "\n",
    "def swap(a,b,thestr):\n",
    "    midpoint1 = randomword(15)\n",
    "    midpoint2 = randomword(17)\n",
    "    thestr = re.sub(a,midpoint1,thestr)\n",
    "    thestr = re.sub(b,midpoint2,thestr)\n",
    "    thestr = re.sub(midpoint1,b,thestr)\n",
    "    thestr = re.sub(midpoint2,a,thestr)\n",
    "    return thestr\n",
    "\n",
    "thispage = urllib.request.urlopen(thisurl)\n",
    "soup = BeautifulSoup(thispage,'html.parser',from_encoding='utf-8')\n",
    "\n",
    "headline = str(soup.find('h1'))\n",
    "headline = swap(r'Trump',r'Obama',headline)\n",
    "\n",
    "paragraphs = soup.findAll('p')\n",
    "display(HTML((str(headline))))\n",
    "holder = []\n",
    "for item in paragraphs:\n",
    "    graf = str(item)\n",
    "    graf = swap(r'Trump',r'Obama',graf)\n",
    "    graf = swap(r'Donald',r'Barack',graf)\n",
    "    display(HTML(graf))"
   ]
  },
  {
   "cell_type": "code",
   "execution_count": null,
   "metadata": {
    "collapsed": true
   },
   "outputs": [],
   "source": []
  }
 ],
 "metadata": {
  "kernelspec": {
   "display_name": "Python 3",
   "language": "python",
   "name": "python3"
  },
  "language_info": {
   "codemirror_mode": {
    "name": "ipython",
    "version": 3
   },
   "file_extension": ".py",
   "mimetype": "text/x-python",
   "name": "python",
   "nbconvert_exporter": "python",
   "pygments_lexer": "ipython3",
   "version": "3.5.3"
  }
 },
 "nbformat": 4,
 "nbformat_minor": 0
}
